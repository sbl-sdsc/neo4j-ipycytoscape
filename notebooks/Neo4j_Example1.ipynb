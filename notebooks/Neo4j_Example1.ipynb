{
 "cells": [
  {
   "cell_type": "markdown",
   "metadata": {},
   "source": [
    "# Cytoscape Visualization using a local Neo4j Database\n",
    "This notebook demonstrates the visualization of subgraphs from the [Neo4j](https://neo4j.com/) Graph Database. It uses the [py2neo](https://py2neo.org/) library to access a Neo4j database instance.\n",
    "\n",
    "Author: Peter W. Rose (pwrose@ucsd.edu)"
   ]
  },
  {
   "cell_type": "code",
   "execution_count": 1,
   "metadata": {},
   "outputs": [],
   "source": [
    "import ipycytoscape\n",
    "from py2neo import Graph, Node, Relationship\n",
    "import neo4j_utils"
   ]
  },
  {
   "cell_type": "markdown",
   "metadata": {},
   "source": [
    "### Create Neo4j Graph"
   ]
  },
  {
   "cell_type": "code",
   "execution_count": 2,
   "metadata": {},
   "outputs": [
    {
     "name": "stdout",
     "output_type": "stream",
     "text": [
      "Directories in use:\n",
      "home:         /Users/Peter/GitRepositories/neo4j-ipycytoscape/notebooks/neo4j-community-4.4.9\n",
      "config:       /Users/Peter/GitRepositories/neo4j-ipycytoscape/notebooks/neo4j-community-4.4.9/conf\n",
      "logs:         /Users/Peter/GitRepositories/neo4j-ipycytoscape/notebooks/neo4j-community-4.4.9/logs\n",
      "plugins:      /Users/Peter/GitRepositories/neo4j-ipycytoscape/notebooks/neo4j-community-4.4.9/plugins\n",
      "import:       /Users/Peter/GitRepositories/neo4j-ipycytoscape/notebooks/neo4j-community-4.4.9/import\n",
      "data:         /Users/Peter/GitRepositories/neo4j-ipycytoscape/notebooks/neo4j-community-4.4.9/data\n",
      "certificates: /Users/Peter/GitRepositories/neo4j-ipycytoscape/notebooks/neo4j-community-4.4.9/certificates\n",
      "licenses:     /Users/Peter/GitRepositories/neo4j-ipycytoscape/notebooks/neo4j-community-4.4.9/licenses\n",
      "run:          /Users/Peter/GitRepositories/neo4j-ipycytoscape/notebooks/neo4j-community-4.4.9/run\n",
      "Starting Neo4j.\n",
      "Started neo4j (pid:1206). It is available at http://localhost:7474\n",
      "There may be a short delay until the server is ready.\n"
     ]
    }
   ],
   "source": [
    "neo4j_utils.start()"
   ]
  },
  {
   "cell_type": "code",
   "execution_count": 3,
   "metadata": {},
   "outputs": [],
   "source": [
    "graph = Graph(password=\"demo\")"
   ]
  },
  {
   "cell_type": "code",
   "execution_count": 4,
   "metadata": {},
   "outputs": [],
   "source": [
    "graph.delete_all()"
   ]
  },
  {
   "cell_type": "code",
   "execution_count": 5,
   "metadata": {},
   "outputs": [],
   "source": [
    "# This graph example is from https://github.com/nicolewhite/neo4j-jupyter\n",
    "nicole = Node(\"Person\", name=\"Nicole\", age=24)\n",
    "drew = Node(\"Person\", name=\"Drew\", age=20)\n",
    "\n",
    "mtdew = Node(\"Drink\", name=\"Mountain Dew\", calories=9000)\n",
    "cokezero = Node(\"Drink\", name=\"Coke Zero\", calories=0)\n",
    "\n",
    "coke = Node(\"Manufacturer\", name=\"Coca Cola\", url=\"https://www.coca-cola.com/\")\n",
    "pepsi = Node(\"Manufacturer\", name=\"Pepsi\", url=\"https://www.pepsi.com/\")"
   ]
  },
  {
   "cell_type": "code",
   "execution_count": 6,
   "metadata": {},
   "outputs": [],
   "source": [
    "graph.create(Relationship(nicole, \"LIKES\", cokezero))\n",
    "graph.create(Relationship(nicole, \"LIKES\", mtdew))\n",
    "graph.create(Relationship(drew, \"LIKES\", mtdew))\n",
    "graph.create(Relationship(pepsi, \"MAKES\", mtdew))\n",
    "graph.create(Relationship(coke, \"MAKES\", cokezero))"
   ]
  },
  {
   "cell_type": "markdown",
   "metadata": {},
   "source": [
    "### Run a Cypher query\n",
    "This query return all nodes with their relationships as a subgraph."
   ]
  },
  {
   "cell_type": "code",
   "execution_count": 7,
   "metadata": {},
   "outputs": [],
   "source": [
    "query = \"\"\"\n",
    "MATCH p=()-[]->() RETURN p\n",
    "\"\"\""
   ]
  },
  {
   "cell_type": "code",
   "execution_count": 8,
   "metadata": {
    "scrolled": true
   },
   "outputs": [],
   "source": [
    "subgraph = graph.run(query).to_subgraph()"
   ]
  },
  {
   "cell_type": "markdown",
   "metadata": {},
   "source": [
    "### Display subgraph with Cytoscape"
   ]
  },
  {
   "cell_type": "code",
   "execution_count": 9,
   "metadata": {},
   "outputs": [],
   "source": [
    "widget = ipycytoscape.CytoscapeWidget()\n",
    "widget.graph.add_graph_from_neo4j(subgraph)"
   ]
  },
  {
   "cell_type": "markdown",
   "metadata": {},
   "source": [
    "### Setup styles\n",
    "\n",
    "**Nodes**\n",
    "\n",
    " * use the node property \"name\" as the display label\n",
    " * assign colors to the three types of nodes (Person, Drink, Manufacturer)\n",
    "\n",
    "**Edges**\n",
    "\n",
    " * use the relationship \"name\" as the edge display label\n",
    " * use a font size of 12 px\n",
    " * align (autorotate) the text with the relationship arrow\n",
    " * use the triangle arrow shape (curve-style bezier is required to draw arrows!)"
   ]
  },
  {
   "cell_type": "code",
   "execution_count": 10,
   "metadata": {},
   "outputs": [],
   "source": [
    "style = [{'selector': 'node', 'style': \n",
    "             {'label': 'data(name)'}},\n",
    "         {'selector': 'node[label = \"Person\"]', 'style': \n",
    "              {'background-color': 'blue'}},\n",
    "         {'selector': 'node[label = \"Drink\"]', 'style': \n",
    "              {'background-color': 'orange'}},\n",
    "         {'selector': 'node[label = \"Manufacturer\"]', 'style': \n",
    "              {'background-color': 'red'}},\n",
    "         {'selector': 'edge', 'style': \n",
    "             {'label': 'data(name)', \n",
    "              'font-size': '12px',\n",
    "              'text-rotation': 'autorotate',\n",
    "              'curve-style': 'bezier',\n",
    "              'target-arrow-shape': 'triangle'}}]"
   ]
  },
  {
   "cell_type": "code",
   "execution_count": 11,
   "metadata": {},
   "outputs": [],
   "source": [
    "widget.set_style(style)"
   ]
  },
  {
   "cell_type": "markdown",
   "metadata": {},
   "source": [
    "When a Neo4j subgraph is added to a Cytoscape graph, a ```tooltip``` attribute is generated that contains all Neo4j node properties."
   ]
  },
  {
   "cell_type": "code",
   "execution_count": 12,
   "metadata": {},
   "outputs": [],
   "source": [
    "widget.set_tooltip_source('tooltip')"
   ]
  },
  {
   "cell_type": "markdown",
   "metadata": {},
   "source": [
    "Click on a node to show the tooltip"
   ]
  },
  {
   "cell_type": "code",
   "execution_count": 13,
   "metadata": {},
   "outputs": [
    {
     "data": {
      "application/vnd.jupyter.widget-view+json": {
       "model_id": "9e3a7524085d400996ad05019f1542f9",
       "version_major": 2,
       "version_minor": 0
      },
      "text/plain": [
       "CytoscapeWidget(cytoscape_layout={'name': 'cola'}, cytoscape_style=[{'selector': 'node', 'style': {'label': 'd…"
      ]
     },
     "metadata": {},
     "output_type": "display_data"
    }
   ],
   "source": [
    "widget"
   ]
  },
  {
   "cell_type": "code",
   "execution_count": 14,
   "metadata": {},
   "outputs": [
    {
     "name": "stdout",
     "output_type": "stream",
     "text": [
      "Stopping Neo4j........ stopped.\n"
     ]
    }
   ],
   "source": [
    "neo4j_utils.stop()"
   ]
  }
 ],
 "metadata": {
  "kernelspec": {
   "display_name": "Python 3 (ipykernel)",
   "language": "python",
   "name": "python3"
  },
  "language_info": {
   "codemirror_mode": {
    "name": "ipython",
    "version": 3
   },
   "file_extension": ".py",
   "mimetype": "text/x-python",
   "name": "python",
   "nbconvert_exporter": "python",
   "pygments_lexer": "ipython3",
   "version": "3.10.5"
  }
 },
 "nbformat": 4,
 "nbformat_minor": 4
}
